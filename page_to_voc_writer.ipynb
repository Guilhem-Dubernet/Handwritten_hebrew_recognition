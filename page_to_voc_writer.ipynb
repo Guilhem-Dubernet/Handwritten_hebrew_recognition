{
 "cells": [
  {
   "cell_type": "code",
   "execution_count": 2,
   "metadata": {},
   "outputs": [
    {
     "name": "stdout",
     "output_type": "stream",
     "text": [
      "Requirement already satisfied: pascal_voc_writer in /opt/anaconda3/envs/pascal-voc/lib/python3.9/site-packages (0.1.4)\n",
      "Requirement already satisfied: jinja2 in /opt/anaconda3/envs/pascal-voc/lib/python3.9/site-packages (from pascal_voc_writer) (2.11.2)\n",
      "Requirement already satisfied: MarkupSafe>=0.23 in /opt/anaconda3/envs/pascal-voc/lib/python3.9/site-packages (from jinja2->pascal_voc_writer) (1.1.1)\n",
      "Note: you may need to restart the kernel to use updated packages.\n"
     ]
    }
   ],
   "source": [
    "pip install pascal_voc_writer"
   ]
  },
  {
   "cell_type": "code",
   "execution_count": 15,
   "metadata": {},
   "outputs": [
    {
     "name": "stdout",
     "output_type": "stream",
     "text": [
      "Collecting pathlib\n",
      "  Downloading pathlib-1.0.1.tar.gz (49 kB)\n",
      "\u001b[K     |████████████████████████████████| 49 kB 1.1 MB/s eta 0:00:01\n",
      "\u001b[?25hBuilding wheels for collected packages: pathlib\n",
      "  Building wheel for pathlib (setup.py) ... \u001b[?25ldone\n",
      "\u001b[?25h  Created wheel for pathlib: filename=pathlib-1.0.1-py3-none-any.whl size=14347 sha256=5091bef9140c1f41f97738c829207ecf9aa74c6b4965de2ce37cf41f37812b5b\n",
      "  Stored in directory: /Users/guilhemdubernet/Library/Caches/pip/wheels/58/e4/79/b72447132cbb865fd652d37c85cc4e0caba75da59bc3a0ee50\n",
      "Successfully built pathlib\n",
      "Installing collected packages: pathlib\n",
      "Successfully installed pathlib-1.0.1\n",
      "Note: you may need to restart the kernel to use updated packages.\n"
     ]
    }
   ],
   "source": [
    "pip install pathlib"
   ]
  },
  {
   "cell_type": "code",
   "execution_count": 2,
   "metadata": {},
   "outputs": [],
   "source": [
    "#from pascal_voc_writer import Writer\n",
    "#from bs4 import BeautifulSoup\n",
    "import pathlib"
   ]
  },
  {
   "cell_type": "code",
   "execution_count": 2,
   "metadata": {},
   "outputs": [],
   "source": [
    "def find_coords(path_xml):\n",
    "    #Reading and parsing XML file\n",
    "    \n",
    "    xml_doc = open(path_xml, 'r').read()\n",
    "    soup = BeautifulSoup(xml_doc, 'xml')\n",
    "    \n",
    "    page = soup.Page\n",
    "    h = page.get('imageHeight')\n",
    "    w = page.get('imageWidth') \n",
    "    jpg_name = page.get('imageFilename')\n",
    "    \n",
    "    path_jpg = path_xml[0:25]+jpg_name\n",
    "    \n",
    "    writer = Writer(path_jpg, w, h)\n",
    "        \n",
    "    #Getting all 'Word' tags\n",
    "    word_coord_list = []\n",
    "    \n",
    "    for a in soup.find_all('Word'):\n",
    "        coord = a.Coords\n",
    "        word_coord_list.append(coord)\n",
    "     \n",
    "    #Extract coordinates for each word in the file\n",
    "    points = []\n",
    "    \n",
    "    for coords in word_coord_list:\n",
    "        point = coords.get('points')\n",
    "        points.append(point)\n",
    "        \n",
    "    #Splitting all x and all y\n",
    "    for i in range(len(points)):\n",
    "        word = points[i].split()\n",
    "        word_x = []\n",
    "        word_y = []\n",
    "        for w in word:\n",
    "            point = w.split(',')\n",
    "            \n",
    "            #Separate all x and all y\n",
    "            word_x.append(int(point[0]))\n",
    "            word_y.append(int(point[1]))\n",
    "            \n",
    "            #Extracting x_max, x_min, y_max, y_min\n",
    "            #word_x.sort()\n",
    "        x_max = max(word_x)\n",
    "        x_min = min(word_x)\n",
    "\n",
    "                #word_y.sort()\n",
    "        y_max = max(word_y)\n",
    "        y_min = min(word_y)\n",
    "            \n",
    "        writer.addObject('word', x_min, y_min, x_max, y_max)\n",
    "            \n",
    "    writer.save('Yolo_pinkas_dataset/data/xml/'+path_xml[25:])\n"
   ]
  },
  {
   "cell_type": "code",
   "execution_count": 3,
   "metadata": {},
   "outputs": [],
   "source": [
    "folder = pathlib.Path('./Yolo_pinkas_dataset/data')\n",
    "all_xml_path = [str(xml) for xml in list(folder.glob(\"*.xml\"))]"
   ]
  },
  {
   "cell_type": "code",
   "execution_count": 18,
   "metadata": {},
   "outputs": [],
   "source": [
    "for xml_doc in all_xml_path:\n",
    "    find_coords(xml_doc)"
   ]
  },
  {
   "cell_type": "code",
   "execution_count": 4,
   "metadata": {},
   "outputs": [
    {
     "data": {
      "text/plain": [
       "['Yolo_pinkas_dataset/data/Page 122_1.xml',\n",
       " 'Yolo_pinkas_dataset/data/Page 122_2.xml',\n",
       " 'Yolo_pinkas_dataset/data/Page 127_1.xml',\n",
       " 'Yolo_pinkas_dataset/data/Page 127_2.xml',\n",
       " 'Yolo_pinkas_dataset/data/Page 107_2.xml',\n",
       " 'Yolo_pinkas_dataset/data/Page 121_1.xml',\n",
       " 'Yolo_pinkas_dataset/data/Page 105_1.xml',\n",
       " 'Yolo_pinkas_dataset/data/Page 121_2.xml',\n",
       " 'Yolo_pinkas_dataset/data/Page 107_1.xml',\n",
       " 'Yolo_pinkas_dataset/data/Page 105_2.xml',\n",
       " 'Yolo_pinkas_dataset/data/Page 112_1.xml',\n",
       " 'Yolo_pinkas_dataset/data/Page 134_2.xml',\n",
       " 'Yolo_pinkas_dataset/data/Page 134_1.xml',\n",
       " 'Yolo_pinkas_dataset/data/Page 112_2.xml',\n",
       " 'Yolo_pinkas_dataset/data/Page 114_1.xml',\n",
       " 'Yolo_pinkas_dataset/data/Page 132_2.xml',\n",
       " 'Yolo_pinkas_dataset/data/Page 130_1.xml',\n",
       " 'Yolo_pinkas_dataset/data/Page 116_2.xml',\n",
       " 'Yolo_pinkas_dataset/data/Page 132_1.xml',\n",
       " 'Yolo_pinkas_dataset/data/Page 114_2.xml',\n",
       " 'Yolo_pinkas_dataset/data/Page 116_1.xml',\n",
       " 'Yolo_pinkas_dataset/data/Page 130_2.xml',\n",
       " 'Yolo_pinkas_dataset/data/Page 113_2.xml',\n",
       " 'Yolo_pinkas_dataset/data/Page 113_1.xml',\n",
       " 'Yolo_pinkas_dataset/data/Page 133_1.xml',\n",
       " 'Yolo_pinkas_dataset/data/Page 115_2.xml',\n",
       " 'Yolo_pinkas_dataset/data/Page 131_2.xml',\n",
       " 'Yolo_pinkas_dataset/data/Page 115_1.xml',\n",
       " 'Yolo_pinkas_dataset/data/Page 133_2.xml',\n",
       " 'Yolo_pinkas_dataset/data/Page 131_1.xml']"
      ]
     },
     "execution_count": 4,
     "metadata": {},
     "output_type": "execute_result"
    }
   ],
   "source": [
    "all_xml_path"
   ]
  },
  {
   "cell_type": "code",
   "execution_count": null,
   "metadata": {},
   "outputs": [],
   "source": []
  },
  {
   "cell_type": "code",
   "execution_count": null,
   "metadata": {},
   "outputs": [],
   "source": []
  }
 ],
 "metadata": {
  "kernelspec": {
   "display_name": "Python 3",
   "language": "python",
   "name": "python3"
  },
  "language_info": {
   "codemirror_mode": {
    "name": "ipython",
    "version": 3
   },
   "file_extension": ".py",
   "mimetype": "text/x-python",
   "name": "python",
   "nbconvert_exporter": "python",
   "pygments_lexer": "ipython3",
   "version": "3.8.5"
  }
 },
 "nbformat": 4,
 "nbformat_minor": 4
}
