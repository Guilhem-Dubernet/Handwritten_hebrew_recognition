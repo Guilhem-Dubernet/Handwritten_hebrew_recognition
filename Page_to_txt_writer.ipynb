{
 "cells": [
  {
   "cell_type": "code",
   "execution_count": 1,
   "metadata": {},
   "outputs": [],
   "source": [
    "from bs4 import BeautifulSoup\n",
    "import pathlib"
   ]
  },
  {
   "cell_type": "code",
   "execution_count": 10,
   "metadata": {},
   "outputs": [],
   "source": [
    "def find_coords(path_xml):\n",
    "    #Reading and parsing XML file\n",
    "    \n",
    "    xml_doc = open(path_xml, 'r').read()\n",
    "    soup = BeautifulSoup(xml_doc, 'xml')\n",
    "    \n",
    "    page = soup.Page\n",
    "    img_h = float(page.get('imageHeight'))\n",
    "    img_w = float(page.get('imageWidth'))\n",
    "    jpg_name = page.get('imageFilename')\n",
    "    \n",
    "    txt_name = jpg_name[:-4]+'.txt'\n",
    "    \n",
    "    txt_file = open(txt_name, 'a')\n",
    "    \n",
    "    #Getting all 'Word' tags\n",
    "    word_coord_list = []\n",
    "    \n",
    "    for a in soup.find_all('Word'):\n",
    "        coord = a.Coords\n",
    "        word_coord_list.append(coord)\n",
    "     \n",
    "    #Extract coordinates for each word in the file\n",
    "    points = []\n",
    "    \n",
    "    for coords in word_coord_list:\n",
    "        point = coords.get('points')\n",
    "        points.append(point)\n",
    "        \n",
    "    #Splitting all x and all y\n",
    "    for i in range(len(points)):\n",
    "        word = points[i].split()\n",
    "        word_x = []\n",
    "        word_y = []\n",
    "        for w in word:\n",
    "            point = w.split(',')\n",
    "            \n",
    "            #Separate all x and all y\n",
    "            word_x.append(int(point[0]))\n",
    "            word_y.append(int(point[1]))\n",
    "            \n",
    "        #Extracting x_center, y_center, h and w for one box\n",
    "        x_center = (((max(word_x)-min(word_x))/2)+min(word_x))/img_w\n",
    "        y_center = ((max(word_y)-min(word_y))/2)+min(word_y)/img_h\n",
    "        rel_h = (max(word_y)-min(word_y))/img_h\n",
    "        rel_w = (max(word_x)-min(word_x))/img_w\n",
    "        \n",
    "        line = '0 '+str(x_center)+' '+str(y_center)+' '+str(rel_w)+' '+str(rel_h)+' \\n'\n",
    "        txt_file.write(line)\n",
    "    \n",
    "    txt_file.close()\n",
    "\n",
    "    "
   ]
  },
  {
   "cell_type": "code",
   "execution_count": 13,
   "metadata": {},
   "outputs": [
    {
     "name": "stdout",
     "output_type": "stream",
     "text": [
      "/Users/guilhemdubernet/Documents/Data_Job/Git/cursive_hebrew_recognition/Yolo_pinkas_dataset/data\n"
     ]
    }
   ],
   "source": [
    "%pwd\n",
    "%cd Yolo_pinkas_dataset/data"
   ]
  },
  {
   "cell_type": "code",
   "execution_count": 15,
   "metadata": {},
   "outputs": [],
   "source": [
    "folder = pathlib.Path('.')\n",
    "all_xml_path = [str(xml) for xml in list(folder.glob(\"*.xml\"))]"
   ]
  },
  {
   "cell_type": "code",
   "execution_count": 16,
   "metadata": {},
   "outputs": [],
   "source": [
    "for xml_doc in all_xml_path:\n",
    "    find_coords(xml_doc)"
   ]
  },
  {
   "cell_type": "code",
   "execution_count": null,
   "metadata": {},
   "outputs": [],
   "source": []
  }
 ],
 "metadata": {
  "kernelspec": {
   "display_name": "Python 3",
   "language": "python",
   "name": "python3"
  },
  "language_info": {
   "codemirror_mode": {
    "name": "ipython",
    "version": 3
   },
   "file_extension": ".py",
   "mimetype": "text/x-python",
   "name": "python",
   "nbconvert_exporter": "python",
   "pygments_lexer": "ipython3",
   "version": "3.8.5"
  }
 },
 "nbformat": 4,
 "nbformat_minor": 4
}
